{
 "cells": [
  {
   "cell_type": "markdown",
   "metadata": {},
   "source": [
    "0. Introdução \n",
    "Iremos Analisar os dados Do Percentual de alunos de uma escola Com base nos dados do 'WWW.Kaggle.com'\n",
    "\n",
    "# Perguntas que Tentaremos Responder:\n",
    "1. Quantos alunos existem no conjunto de dados ?\n",
    "2. Qual é a média de horas de estudo por semana para todos os alunos?\n",
    "3. Qual é a nota final mais alta alcançada?\n",
    "4. Como a taxa de frequência se correlaciona com a nota final?\n",
    "5. Qual é a distribuição dos alunos por gênero?\n",
    "6. Existe uma relação entre apoio parental e envolvimento extracurricular?\n",
    "7. Qual é a nota final média para alunos que estudam mais de 20 horas por semana?\n",
    "8. Qual aluno teve a maior melhora em sua nota em relação ao ano anterior?"
   ]
  },
  {
   "cell_type": "markdown",
   "metadata": {},
   "source": [
    "# Carregando as Bibliotecas e o Dataset\n"
   ]
  },
  {
   "cell_type": "code",
   "execution_count": 235,
   "metadata": {},
   "outputs": [
    {
     "name": "stdout",
     "output_type": "stream",
     "text": [
      "   StudentID     Name  Gender  AttendanceRate  StudyHoursPerWeek  \\\n",
      "0          1     John    Male              85                 15   \n",
      "1          2    Sarah  Female              90                 20   \n",
      "2          3     Alex    Male              78                 10   \n",
      "3          4  Michael    Male              92                 25   \n",
      "4          5     Emma  Female              88                 18   \n",
      "\n",
      "   PreviousGrade  ExtracurricularActivities ParentalSupport  FinalGrade  \n",
      "0             78                          1            High          80  \n",
      "1             85                          2          Medium          87  \n",
      "2             65                          0             Low          68  \n",
      "3             90                          3            High          92  \n",
      "4             82                          2          Medium          85  \n"
     ]
    }
   ],
   "source": [
    "import pandas as pd\n",
    "df= pd.read_csv(\"student_performance (1).csv\", encoding='latin1')\n",
    "print(df.head())\n",
    "import matplotlib.pyplot as plt"
   ]
  },
  {
   "cell_type": "markdown",
   "metadata": {},
   "source": [
    "#"
   ]
  },
  {
   "cell_type": "markdown",
   "metadata": {},
   "source": [
    "# 1. Analise do Número de alunos na instituição"
   ]
  },
  {
   "cell_type": "code",
   "execution_count": 247,
   "metadata": {},
   "outputs": [
    {
     "name": "stdout",
     "output_type": "stream",
     "text": [
      "A quantidade de alunos Presente na instituição é de: 10\n"
     ]
    }
   ],
   "source": [
    "import pandas as pd\n",
    "\n",
    "# Assuming you've read the data into a DataFrame named 'df'\n",
    "num_students = len(df)\n",
    "print(\"A quantidade de alunos Presente na instituição é de:\" , num_students)"
   ]
  },
  {
   "cell_type": "markdown",
   "metadata": {},
   "source": [
    "#"
   ]
  },
  {
   "cell_type": "markdown",
   "metadata": {},
   "source": [
    "# 2. Horas semanais estudadas"
   ]
  },
  {
   "cell_type": "code",
   "execution_count": 237,
   "metadata": {},
   "outputs": [
    {
     "name": "stdout",
     "output_type": "stream",
     "text": [
      "Average study hours per week: 17.7\n"
     ]
    }
   ],
   "source": [
    "avg_study_hours = df['StudyHoursPerWeek'].mean()\n",
    "print(\"Average study hours per week:\", avg_study_hours)"
   ]
  },
  {
   "cell_type": "markdown",
   "metadata": {},
   "source": [
    "A média semanal tomada pela maioria dos alunos é de 17 horas"
   ]
  },
  {
   "cell_type": "markdown",
   "metadata": {},
   "source": [
    "#"
   ]
  },
  {
   "cell_type": "markdown",
   "metadata": {},
   "source": [
    "# 3. Nota mais alta alcançada"
   ]
  },
  {
   "cell_type": "code",
   "execution_count": 238,
   "metadata": {},
   "outputs": [
    {
     "name": "stdout",
     "output_type": "stream",
     "text": [
      "Highest final grade: 92\n"
     ]
    }
   ],
   "source": [
    "max_final_grade = df['FinalGrade'].max()\n",
    "print(\"Highest final grade:\", max_final_grade)"
   ]
  },
  {
   "cell_type": "markdown",
   "metadata": {},
   "source": [
    "#"
   ]
  },
  {
   "cell_type": "markdown",
   "metadata": {},
   "source": [
    "# 4. Relação entre a frequêcia e a nota"
   ]
  },
  {
   "cell_type": "code",
   "execution_count": 239,
   "metadata": {},
   "outputs": [
    {
     "data": {
      "image/png": "[encoded data removed]",
      "text/plain": [
       "<Figure size 640x480 with 1 Axes>"
      ]
     },
     "metadata": {},
     "output_type": "display_data"
    }
   ],
   "source": [
    "import matplotlib.pyplot as plt\n",
    "plt.scatter(df['AttendanceRate'], df['FinalGrade'])\n",
    "plt.xlabel('Attendance Rate')\n",
    "plt.ylabel('Final Grade')\n",
    "plt.title('Attendance vs. Final Grade')\n",
    "plt.show()"
   ]
  },
  {
   "cell_type": "markdown",
   "metadata": {},
   "source": [
    "Pelo o que é possivel visualizar quanto maior a frequência maior sera a nota"
   ]
  },
  {
   "cell_type": "markdown",
   "metadata": {},
   "source": [
    "#"
   ]
  },
  {
   "cell_type": "markdown",
   "metadata": {},
   "source": [
    "# 5. Distribuição entre gênero"
   ]
  },
  {
   "cell_type": "code",
   "execution_count": 240,
   "metadata": {},
   "outputs": [
    {
     "name": "stdout",
     "output_type": "stream",
     "text": [
      "Gender\n",
      "Male      5\n",
      "Female    5\n",
      "Name: count, dtype: int64\n"
     ]
    }
   ],
   "source": [
    "gender_counts = df['Gender'].value_counts()\n",
    "print(gender_counts)"
   ]
  },
  {
   "cell_type": "markdown",
   "metadata": {},
   "source": [
    "Existem 5 homens e 5 mulheres como é possivel ver na tabela"
   ]
  },
  {
   "cell_type": "markdown",
   "metadata": {},
   "source": [
    "#"
   ]
  },
  {
   "cell_type": "markdown",
   "metadata": {},
   "source": [
    "# 6. Relação entre apoio parental e desenvolvimento extracurricular"
   ]
  },
  {
   "cell_type": "code",
   "execution_count": 241,
   "metadata": {},
   "outputs": [
    {
     "data": {
      "text/html": [
       "<div>\n",
       "<style scoped>\n",
       "    .dataframe tbody tr th:only-of-type {\n",
       "        vertical-align: middle;\n",
       "    }\n",
       "\n",
       "    .dataframe tbody tr th {\n",
       "        vertical-align: top;\n",
       "    }\n",
       "\n",
       "    .dataframe thead th {\n",
       "        text-align: right;\n",
       "    }\n",
       "</style>\n",
       "<table border=\"1\" class=\"dataframe\">\n",
       "  <thead>\n",
       "    <tr style=\"text-align: right;\">\n",
       "      <th>ExtracurricularActivities</th>\n",
       "      <th>0</th>\n",
       "      <th>1</th>\n",
       "      <th>2</th>\n",
       "      <th>3</th>\n",
       "    </tr>\n",
       "    <tr>\n",
       "      <th>ParentalSupport</th>\n",
       "      <th></th>\n",
       "      <th></th>\n",
       "      <th></th>\n",
       "      <th></th>\n",
       "    </tr>\n",
       "  </thead>\n",
       "  <tbody>\n",
       "    <tr>\n",
       "      <th>High</th>\n",
       "      <td>0</td>\n",
       "      <td>2</td>\n",
       "      <td>0</td>\n",
       "      <td>2</td>\n",
       "    </tr>\n",
       "    <tr>\n",
       "      <th>Low</th>\n",
       "      <td>2</td>\n",
       "      <td>0</td>\n",
       "      <td>1</td>\n",
       "      <td>0</td>\n",
       "    </tr>\n",
       "    <tr>\n",
       "      <th>Medium</th>\n",
       "      <td>0</td>\n",
       "      <td>1</td>\n",
       "      <td>2</td>\n",
       "      <td>0</td>\n",
       "    </tr>\n",
       "  </tbody>\n",
       "</table>\n",
       "</div>"
      ],
      "text/plain": [
       "ExtracurricularActivities  0  1  2  3\n",
       "ParentalSupport                      \n",
       "High                       0  2  0  2\n",
       "Low                        2  0  1  0\n",
       "Medium                     0  1  2  0"
      ]
     },
     "execution_count": 241,
     "metadata": {},
     "output_type": "execute_result"
    }
   ],
   "source": [
    "# Create a cross tabulation\n",
    "pd.crosstab(df['ParentalSupport'], df['ExtracurricularActivities'])"
   ]
  },
  {
   "cell_type": "markdown",
   "metadata": {},
   "source": [
    "Alunos com alto apoio parental tendem a participar mais de atividades"
   ]
  },
  {
   "cell_type": "markdown",
   "metadata": {},
   "source": [
    "#"
   ]
  },
  {
   "cell_type": "markdown",
   "metadata": {},
   "source": [
    "# 7. Nota final para alunos com mais de 20 horas de estudos semanais"
   ]
  },
  {
   "cell_type": "code",
   "execution_count": 242,
   "metadata": {},
   "outputs": [
    {
     "name": "stdout",
     "output_type": "stream",
     "text": [
      "A média das notas dos alunos que estudam mais de 20 horas por semana é: 90.0\n"
     ]
    }
   ],
   "source": [
    "avg_grade_for_high_study_hours = df[df['StudyHoursPerWeek'] > 20]['FinalGrade'].mean()\n",
    "print(\"A média das notas dos alunos que estudam mais de 20 horas por semana é:\", avg_grade_for_high_study_hours)"
   ]
  },
  {
   "cell_type": "markdown",
   "metadata": {},
   "source": [
    "#"
   ]
  },
  {
   "cell_type": "markdown",
   "metadata": {},
   "source": [
    "# 8. Aluno com a maior melhora de notas"
   ]
  },
  {
   "cell_type": "code",
   "execution_count": 243,
   "metadata": {},
   "outputs": [
    {
     "name": "stdout",
     "output_type": "stream",
     "text": [
      "O aluno com o maior progresso foi: Alex\n"
     ]
    }
   ],
   "source": [
    "df['GradeImprovement'] = df['FinalGrade'] - df['PreviousGrade']\n",
    "max_improvement = df['GradeImprovement'].max()\n",
    "best_improver = df[df['GradeImprovement'] == max_improvement]['Name']\n",
    "\n",
    "print(\"O aluno com o maior progresso foi:\", best_improver.values[0])"
   ]
  }
 ],
 "metadata": {
  "kernelspec": {
   "display_name": "Python 3",
   "language": "python",
   "name": "python3"
  },
  "language_info": {
   "codemirror_mode": {
    "name": "ipython",
    "version": 3
   },
   "file_extension": ".py",
   "mimetype": "text/x-python",
   "name": "python",
   "nbconvert_exporter": "python",
   "pygments_lexer": "ipython3",
   "version": "3.12.5"
  }
 },
 "nbformat": 4,
 "nbformat_minor": 2
}
